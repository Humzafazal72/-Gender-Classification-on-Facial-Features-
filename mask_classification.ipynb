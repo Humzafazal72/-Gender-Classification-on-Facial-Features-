{
  "nbformat": 4,
  "nbformat_minor": 0,
  "metadata": {
    "colab": {
      "provenance": [],
      "gpuType": "T4",
      "mount_file_id": "1sxiUZX8f9kzUCG5wAQaEZpTfRFx6WRPZ",
      "authorship_tag": "ABX9TyOZ8J/4Xi10NJzBRIMiIBeW",
      "include_colab_link": true
    },
    "kernelspec": {
      "name": "python3",
      "display_name": "Python 3"
    },
    "language_info": {
      "name": "python"
    },
    "accelerator": "GPU"
  },
  "cells": [
    {
      "cell_type": "markdown",
      "metadata": {
        "id": "view-in-github",
        "colab_type": "text"
      },
      "source": [
        "<a href=\"https://colab.research.google.com/github/Humzafazal72/-Gender-Classification-on-Facial-Features-/blob/master/mask_classification.ipynb\" target=\"_parent\"><img src=\"https://colab.research.google.com/assets/colab-badge.svg\" alt=\"Open In Colab\"/></a>"
      ]
    },
    {
      "cell_type": "code",
      "execution_count": null,
      "metadata": {
        "id": "FdOlv1sgwNo3"
      },
      "outputs": [],
      "source": [
        "import numpy as np\n",
        "import pandas as pd\n",
        "import matplotlib.pyplot as plt\n",
        "\n",
        "import sklearn\n",
        "from tensorflow.keras.losses import SparseCategoricalCrossentropy\n",
        "from tensorflow.keras.optimizers import SGD\n",
        "from tensorflow.keras.models import Sequential\n",
        "from tensorflow.keras.applications.resnet import ResNet101\n",
        "from tensorflow.keras.layers import Dense,Conv2D,MaxPooling2D,AveragePooling2D,Flatten\n",
        "from tensorflow.keras.utils import image_dataset_from_directory"
      ]
    },
    {
      "cell_type": "code",
      "source": [
        "base_model=ResNet101(\n",
        "    include_top=False,\n",
        "    weights='imagenet',\n",
        "    input_shape=(224,224,3)\n",
        ")\n"
      ],
      "metadata": {
        "id": "DBUjdcDBxbjl",
        "colab": {
          "base_uri": "https://localhost:8080/"
        },
        "outputId": "723ae493-8f1a-45a4-d644-97ad9fc3ba9c"
      },
      "execution_count": null,
      "outputs": [
        {
          "output_type": "stream",
          "name": "stdout",
          "text": [
            "Downloading data from https://storage.googleapis.com/tensorflow/keras-applications/resnet/resnet101_weights_tf_dim_ordering_tf_kernels_notop.h5\n",
            "171446536/171446536 [==============================] - 1s 0us/step\n"
          ]
        }
      ]
    },
    {
      "cell_type": "code",
      "source": [
        "for layer in base_model.layers:\n",
        "  print(layer.name)"
      ],
      "metadata": {
        "id": "SsqB-JEnDnsZ"
      },
      "execution_count": null,
      "outputs": []
    },
    {
      "cell_type": "code",
      "source": [
        "'''conv5_block3_out\n",
        "avg_pool\n",
        "predictions'''\n",
        "trainable=False\n",
        "for layer in base_model.layers:\n",
        "  if layer.name == 'conv4_block17_1_conv':\n",
        "    trainable=True\n",
        "  if trainable:\n",
        "    layer.trainable= True\n",
        "  else:\n",
        "    layer.trainable=False"
      ],
      "metadata": {
        "id": "7YEsyw_aYKI8"
      },
      "execution_count": null,
      "outputs": []
    },
    {
      "cell_type": "code",
      "source": [
        "base_model.summary()"
      ],
      "metadata": {
        "id": "0zWzYj29NIbe"
      },
      "execution_count": null,
      "outputs": []
    },
    {
      "cell_type": "code",
      "source": [
        "!pip install patool\n"
      ],
      "metadata": {
        "id": "PgNzdAh7iC3t"
      },
      "execution_count": null,
      "outputs": []
    },
    {
      "cell_type": "code",
      "source": [
        "patoolib.extract_archive(\"/content/drive/MyDrive/dataset_mask.rar\", outdir=\"/content/drive/MyDrive/dataset_mask\")"
      ],
      "metadata": {
        "id": "QIChU9MOe-Bu"
      },
      "execution_count": null,
      "outputs": []
    },
    {
      "cell_type": "code",
      "source": [
        "train= image_dataset_from_directory(\n",
        "    '/content/drive/MyDrive/dataset_mask/dataset_mask/train/',\n",
        "    image_size=(224,224),\n",
        "    batch_size=32\n",
        ")"
      ],
      "metadata": {
        "colab": {
          "base_uri": "https://localhost:8080/"
        },
        "id": "CkRWbM4lmQK0",
        "outputId": "c703b32c-9a41-498b-8648-2bc069be17f6"
      },
      "execution_count": null,
      "outputs": [
        {
          "output_type": "stream",
          "name": "stdout",
          "text": [
            "Found 8604 files belonging to 3 classes.\n"
          ]
        }
      ]
    },
    {
      "cell_type": "code",
      "source": [
        "test= image_dataset_from_directory(\n",
        "    '/content/drive/MyDrive/dataset_mask/dataset_mask/test/',\n",
        "    image_size=(224,224),\n",
        ")"
      ],
      "metadata": {
        "colab": {
          "base_uri": "https://localhost:8080/"
        },
        "id": "jAwdgi_ICE1g",
        "outputId": "429dcdcf-cb43-4575-96a4-ffbd5e58593f"
      },
      "execution_count": null,
      "outputs": [
        {
          "output_type": "stream",
          "name": "stdout",
          "text": [
            "Found 2968 files belonging to 3 classes.\n"
          ]
        }
      ]
    },
    {
      "cell_type": "code",
      "source": [
        "valid= image_dataset_from_directory(\n",
        "    '/content/drive/MyDrive/dataset_mask/dataset_mask/valid/',\n",
        "    image_size=(224,224),\n",
        ")"
      ],
      "metadata": {
        "colab": {
          "base_uri": "https://localhost:8080/"
        },
        "id": "jpUfQEZmCPpD",
        "outputId": "0e2988f3-b06a-4e38-b0c0-f4e35cbbbda9"
      },
      "execution_count": null,
      "outputs": [
        {
          "output_type": "stream",
          "name": "stdout",
          "text": [
            "Found 2964 files belonging to 3 classes.\n"
          ]
        }
      ]
    },
    {
      "cell_type": "code",
      "source": [
        "model=Sequential()\n",
        "model.add(base_model)\n",
        "model.add(Flatten())\n",
        "model.add(Dense(256,activation='relu'))\n",
        "model.add(Dense(256,activation='relu'))\n",
        "model.add(Dense(3,activation='softmax'))"
      ],
      "metadata": {
        "id": "ZyByg6nKCsTK"
      },
      "execution_count": null,
      "outputs": []
    },
    {
      "cell_type": "code",
      "source": [
        "model.compile(optimizer=SGD(learning_rate=1e-4, momentum=0.9),\n",
        "              loss=SparseCategoricalCrossentropy(),\n",
        "              metrics=['accuracy'])"
      ],
      "metadata": {
        "id": "94pRLbh2Ecs4"
      },
      "execution_count": null,
      "outputs": []
    },
    {
      "cell_type": "code",
      "source": [
        "'''class_names = train.class_names\n",
        "num_classes = len(class_names)\n",
        "plt.figure(figsize=(10, 10))\n",
        "for images, labels in train.take(1):  # Only take one batch\n",
        "    for i in range(9):  # Display 9 images\n",
        "        ax = plt.subplot(3, 3, i + 1)\n",
        "        plt.imshow(images[i].numpy().astype(\"uint8\"))\n",
        "        plt.title(class_names[labels[i]])\n",
        "        plt.axis(\"off\")\n",
        "        '''"
      ],
      "metadata": {
        "id": "urW2iycSK7ww"
      },
      "execution_count": null,
      "outputs": []
    },
    {
      "cell_type": "code",
      "source": [
        "model.fit(train,epochs=5)"
      ],
      "metadata": {
        "colab": {
          "base_uri": "https://localhost:8080/"
        },
        "id": "AgNrggYaK_Sr",
        "outputId": "5762b44e-1fd7-4707-9166-c221d1f5185b"
      },
      "execution_count": null,
      "outputs": [
        {
          "output_type": "stream",
          "name": "stdout",
          "text": [
            "Epoch 1/5\n",
            "269/269 [==============================] - 818s 3s/step - loss: 0.1542 - accuracy: 0.9443\n",
            "Epoch 2/5\n",
            "269/269 [==============================] - 74s 269ms/step - loss: 0.0194 - accuracy: 0.9948\n",
            "Epoch 3/5\n",
            "269/269 [==============================] - 74s 269ms/step - loss: 0.0124 - accuracy: 0.9962\n",
            "Epoch 4/5\n",
            "269/269 [==============================] - 75s 271ms/step - loss: 0.0110 - accuracy: 0.9965\n",
            "Epoch 5/5\n",
            "269/269 [==============================] - 74s 270ms/step - loss: 0.0096 - accuracy: 0.9963\n"
          ]
        },
        {
          "output_type": "execute_result",
          "data": {
            "text/plain": [
              "<keras.src.callbacks.History at 0x7a6d50f8fb20>"
            ]
          },
          "metadata": {},
          "execution_count": 14
        }
      ]
    },
    {
      "cell_type": "code",
      "source": [
        "model.evaluate(valid)"
      ],
      "metadata": {
        "colab": {
          "base_uri": "https://localhost:8080/"
        },
        "id": "zuDm7L0KUnSQ",
        "outputId": "1badf325-2c0f-40b4-fd41-0bd4238f6061"
      },
      "execution_count": null,
      "outputs": [
        {
          "output_type": "stream",
          "name": "stdout",
          "text": [
            "93/93 [==============================] - 379s 4s/step - loss: 0.1542 - accuracy: 0.9626\n"
          ]
        },
        {
          "output_type": "execute_result",
          "data": {
            "text/plain": [
              "[0.15416844189167023, 0.9625505805015564]"
            ]
          },
          "metadata": {},
          "execution_count": 15
        }
      ]
    },
    {
      "cell_type": "code",
      "source": [
        "model.evaluate(test)"
      ],
      "metadata": {
        "colab": {
          "base_uri": "https://localhost:8080/"
        },
        "id": "6Aa4RvbCXILw",
        "outputId": "44050e66-5f8f-4e56-fa5c-b0bb6bca2631"
      },
      "execution_count": null,
      "outputs": [
        {
          "output_type": "stream",
          "name": "stdout",
          "text": [
            "93/93 [==============================] - 332s 3s/step - loss: 0.0607 - accuracy: 0.9808\n"
          ]
        },
        {
          "output_type": "execute_result",
          "data": {
            "text/plain": [
              "[0.06072688102722168, 0.98079514503479]"
            ]
          },
          "metadata": {},
          "execution_count": 16
        }
      ]
    }
  ]
}